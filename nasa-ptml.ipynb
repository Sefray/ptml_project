{
 "cells": [
  {
   "cell_type": "code",
   "execution_count": 148,
   "id": "09312cd3-84b9-4859-b50d-210a3ac1f778",
   "metadata": {},
   "outputs": [],
   "source": [
    "import numpy as np\n",
    "import pandas as pd\n",
    "import sklearn\n",
    "import seaborn as sns"
   ]
  },
  {
   "cell_type": "markdown",
   "id": "575fbb35-ebac-440a-96f8-74305d979552",
   "metadata": {},
   "source": [
    "# PTML Project: NASA Nearest Object from Earth\n",
    "\n",
    "Authors:\n",
    "* Baptiste Bourdet\n",
    "* Philippe Bernet\n",
    "* Marius Dubosc\n",
    "* Hugo Levy\n",
    "\n",
    "The dataset comes from Kaggle: https://www.kaggle.com/datasets/sameepvani/nasa-nearest-earth-objects.\n",
    "\n",
    "In this report we will try to analyze this data and compute models of both supervised and unsupervised learning to respond to a problem that was highlighted in many movies of science fiction: are any objects currently in orbit a danger to either satellites or earth."
   ]
  },
  {
   "cell_type": "markdown",
   "id": "5f9c246e-43c2-4fd9-a32d-b3d5e472f425",
   "metadata": {},
   "source": [
    "## Loading the data\n",
    "\n",
    "First we need to load the data and analyse the different component it is made out of."
   ]
  },
  {
   "cell_type": "code",
   "execution_count": 149,
   "id": "cf299e97-8211-47c2-a49c-8d92146c8e69",
   "metadata": {},
   "outputs": [
    {
     "data": {
      "text/html": [
       "<div>\n",
       "<style scoped>\n",
       "    .dataframe tbody tr th:only-of-type {\n",
       "        vertical-align: middle;\n",
       "    }\n",
       "\n",
       "    .dataframe tbody tr th {\n",
       "        vertical-align: top;\n",
       "    }\n",
       "\n",
       "    .dataframe thead th {\n",
       "        text-align: right;\n",
       "    }\n",
       "</style>\n",
       "<table border=\"1\" class=\"dataframe\">\n",
       "  <thead>\n",
       "    <tr style=\"text-align: right;\">\n",
       "      <th></th>\n",
       "      <th>id</th>\n",
       "      <th>name</th>\n",
       "      <th>est_diameter_min</th>\n",
       "      <th>est_diameter_max</th>\n",
       "      <th>relative_velocity</th>\n",
       "      <th>miss_distance</th>\n",
       "      <th>orbiting_body</th>\n",
       "      <th>sentry_object</th>\n",
       "      <th>absolute_magnitude</th>\n",
       "      <th>hazardous</th>\n",
       "    </tr>\n",
       "  </thead>\n",
       "  <tbody>\n",
       "    <tr>\n",
       "      <th>0</th>\n",
       "      <td>2162635</td>\n",
       "      <td>162635 (2000 SS164)</td>\n",
       "      <td>1.198271</td>\n",
       "      <td>2.679415</td>\n",
       "      <td>13569.249224</td>\n",
       "      <td>5.483974e+07</td>\n",
       "      <td>Earth</td>\n",
       "      <td>False</td>\n",
       "      <td>16.73</td>\n",
       "      <td>False</td>\n",
       "    </tr>\n",
       "    <tr>\n",
       "      <th>1</th>\n",
       "      <td>2277475</td>\n",
       "      <td>277475 (2005 WK4)</td>\n",
       "      <td>0.265800</td>\n",
       "      <td>0.594347</td>\n",
       "      <td>73588.726663</td>\n",
       "      <td>6.143813e+07</td>\n",
       "      <td>Earth</td>\n",
       "      <td>False</td>\n",
       "      <td>20.00</td>\n",
       "      <td>True</td>\n",
       "    </tr>\n",
       "    <tr>\n",
       "      <th>2</th>\n",
       "      <td>2512244</td>\n",
       "      <td>512244 (2015 YE18)</td>\n",
       "      <td>0.722030</td>\n",
       "      <td>1.614507</td>\n",
       "      <td>114258.692129</td>\n",
       "      <td>4.979872e+07</td>\n",
       "      <td>Earth</td>\n",
       "      <td>False</td>\n",
       "      <td>17.83</td>\n",
       "      <td>False</td>\n",
       "    </tr>\n",
       "    <tr>\n",
       "      <th>3</th>\n",
       "      <td>3596030</td>\n",
       "      <td>(2012 BV13)</td>\n",
       "      <td>0.096506</td>\n",
       "      <td>0.215794</td>\n",
       "      <td>24764.303138</td>\n",
       "      <td>2.543497e+07</td>\n",
       "      <td>Earth</td>\n",
       "      <td>False</td>\n",
       "      <td>22.20</td>\n",
       "      <td>False</td>\n",
       "    </tr>\n",
       "    <tr>\n",
       "      <th>4</th>\n",
       "      <td>3667127</td>\n",
       "      <td>(2014 GE35)</td>\n",
       "      <td>0.255009</td>\n",
       "      <td>0.570217</td>\n",
       "      <td>42737.733765</td>\n",
       "      <td>4.627557e+07</td>\n",
       "      <td>Earth</td>\n",
       "      <td>False</td>\n",
       "      <td>20.09</td>\n",
       "      <td>True</td>\n",
       "    </tr>\n",
       "    <tr>\n",
       "      <th>...</th>\n",
       "      <td>...</td>\n",
       "      <td>...</td>\n",
       "      <td>...</td>\n",
       "      <td>...</td>\n",
       "      <td>...</td>\n",
       "      <td>...</td>\n",
       "      <td>...</td>\n",
       "      <td>...</td>\n",
       "      <td>...</td>\n",
       "      <td>...</td>\n",
       "    </tr>\n",
       "    <tr>\n",
       "      <th>90831</th>\n",
       "      <td>3763337</td>\n",
       "      <td>(2016 VX1)</td>\n",
       "      <td>0.026580</td>\n",
       "      <td>0.059435</td>\n",
       "      <td>52078.886692</td>\n",
       "      <td>1.230039e+07</td>\n",
       "      <td>Earth</td>\n",
       "      <td>False</td>\n",
       "      <td>25.00</td>\n",
       "      <td>False</td>\n",
       "    </tr>\n",
       "    <tr>\n",
       "      <th>90832</th>\n",
       "      <td>3837603</td>\n",
       "      <td>(2019 AD3)</td>\n",
       "      <td>0.016771</td>\n",
       "      <td>0.037501</td>\n",
       "      <td>46114.605073</td>\n",
       "      <td>5.432121e+07</td>\n",
       "      <td>Earth</td>\n",
       "      <td>False</td>\n",
       "      <td>26.00</td>\n",
       "      <td>False</td>\n",
       "    </tr>\n",
       "    <tr>\n",
       "      <th>90833</th>\n",
       "      <td>54017201</td>\n",
       "      <td>(2020 JP3)</td>\n",
       "      <td>0.031956</td>\n",
       "      <td>0.071456</td>\n",
       "      <td>7566.807732</td>\n",
       "      <td>2.840077e+07</td>\n",
       "      <td>Earth</td>\n",
       "      <td>False</td>\n",
       "      <td>24.60</td>\n",
       "      <td>False</td>\n",
       "    </tr>\n",
       "    <tr>\n",
       "      <th>90834</th>\n",
       "      <td>54115824</td>\n",
       "      <td>(2021 CN5)</td>\n",
       "      <td>0.007321</td>\n",
       "      <td>0.016370</td>\n",
       "      <td>69199.154484</td>\n",
       "      <td>6.869206e+07</td>\n",
       "      <td>Earth</td>\n",
       "      <td>False</td>\n",
       "      <td>27.80</td>\n",
       "      <td>False</td>\n",
       "    </tr>\n",
       "    <tr>\n",
       "      <th>90835</th>\n",
       "      <td>54205447</td>\n",
       "      <td>(2021 TW7)</td>\n",
       "      <td>0.039862</td>\n",
       "      <td>0.089133</td>\n",
       "      <td>27024.455553</td>\n",
       "      <td>5.977213e+07</td>\n",
       "      <td>Earth</td>\n",
       "      <td>False</td>\n",
       "      <td>24.12</td>\n",
       "      <td>False</td>\n",
       "    </tr>\n",
       "  </tbody>\n",
       "</table>\n",
       "<p>90836 rows × 10 columns</p>\n",
       "</div>"
      ],
      "text/plain": [
       "             id                 name  est_diameter_min  est_diameter_max  \\\n",
       "0       2162635  162635 (2000 SS164)          1.198271          2.679415   \n",
       "1       2277475    277475 (2005 WK4)          0.265800          0.594347   \n",
       "2       2512244   512244 (2015 YE18)          0.722030          1.614507   \n",
       "3       3596030          (2012 BV13)          0.096506          0.215794   \n",
       "4       3667127          (2014 GE35)          0.255009          0.570217   \n",
       "...         ...                  ...               ...               ...   \n",
       "90831   3763337           (2016 VX1)          0.026580          0.059435   \n",
       "90832   3837603           (2019 AD3)          0.016771          0.037501   \n",
       "90833  54017201           (2020 JP3)          0.031956          0.071456   \n",
       "90834  54115824           (2021 CN5)          0.007321          0.016370   \n",
       "90835  54205447           (2021 TW7)          0.039862          0.089133   \n",
       "\n",
       "       relative_velocity  miss_distance orbiting_body  sentry_object  \\\n",
       "0           13569.249224   5.483974e+07         Earth          False   \n",
       "1           73588.726663   6.143813e+07         Earth          False   \n",
       "2          114258.692129   4.979872e+07         Earth          False   \n",
       "3           24764.303138   2.543497e+07         Earth          False   \n",
       "4           42737.733765   4.627557e+07         Earth          False   \n",
       "...                  ...            ...           ...            ...   \n",
       "90831       52078.886692   1.230039e+07         Earth          False   \n",
       "90832       46114.605073   5.432121e+07         Earth          False   \n",
       "90833        7566.807732   2.840077e+07         Earth          False   \n",
       "90834       69199.154484   6.869206e+07         Earth          False   \n",
       "90835       27024.455553   5.977213e+07         Earth          False   \n",
       "\n",
       "       absolute_magnitude  hazardous  \n",
       "0                   16.73      False  \n",
       "1                   20.00       True  \n",
       "2                   17.83      False  \n",
       "3                   22.20      False  \n",
       "4                   20.09       True  \n",
       "...                   ...        ...  \n",
       "90831               25.00      False  \n",
       "90832               26.00      False  \n",
       "90833               24.60      False  \n",
       "90834               27.80      False  \n",
       "90835               24.12      False  \n",
       "\n",
       "[90836 rows x 10 columns]"
      ]
     },
     "execution_count": 149,
     "metadata": {},
     "output_type": "execute_result"
    }
   ],
   "source": [
    "df = pd.read_csv(\"neo.csv\")\n",
    "# set the id column to be a category\n",
    "df[\"id\"] = df[\"id\"].astype(object)\n",
    "df[\"orbiting_body\"] = df[\"orbiting_body\"].astype('category')\n",
    "df"
   ]
  },
  {
   "cell_type": "markdown",
   "id": "3d4fce25-bf85-439e-8fa9-53974516ba27",
   "metadata": {},
   "source": [
    "The data is composed of the following columns:\n",
    "* id: index number\n",
    "* name: name of the object\n",
    "* est_dimater_min: smallest size of the object in km\n",
    "* est_dimater_max: biggest size of the object in km\n",
    "* relative_velocity: velocity relative to Earth in km/h\n",
    "* orbiting_body: the body the object is orbiting (Earth, Sun, the Moon ...)\n",
    "* sentry_object: whether or not the object is tracked by the sentry system of the nasa\n",
    "* absolute_magnitude: visibility index, the smaller it is, the brigther the object it, the magnitude of the sun is -27 for example\n",
    "* **hazardous**: whether or not the object is considerer a potential threat by the nasa, it is this column we will want to monitor"
   ]
  },
  {
   "cell_type": "markdown",
   "id": "d73f49a9-b662-4def-b781-92a33f4b5816",
   "metadata": {},
   "source": [
    "# Analysis\n",
    "\n",
    "First we will look at statistics on the dataset."
   ]
  },
  {
   "cell_type": "code",
   "execution_count": 150,
   "id": "446c1b71-7606-4733-9a09-cbbaf93f3839",
   "metadata": {},
   "outputs": [
    {
     "name": "stdout",
     "output_type": "stream",
     "text": [
      "Length of the dataset is 90836\n"
     ]
    }
   ],
   "source": [
    "print(f\"Length of the dataset is {len(df)}\")"
   ]
  },
  {
   "cell_type": "code",
   "execution_count": 151,
   "id": "b8bfcb60-05a1-4499-8aab-2f7ffbfd0b64",
   "metadata": {},
   "outputs": [
    {
     "name": "stdout",
     "output_type": "stream",
     "text": [
      "Summary of all numerical values :\n",
      "       est_diameter_min  est_diameter_max  relative_velocity  miss_distance  \\\n",
      "count      90836.000000      90836.000000       90836.000000   9.083600e+04   \n",
      "mean           0.127432          0.284947       48066.918918   3.706655e+07   \n",
      "std            0.298511          0.667491       25293.296961   2.235204e+07   \n",
      "min            0.000609          0.001362         203.346433   6.745533e+03   \n",
      "25%            0.019256          0.043057       28619.020645   1.721082e+07   \n",
      "50%            0.048368          0.108153       44190.117890   3.784658e+07   \n",
      "75%            0.143402          0.320656       62923.604633   5.654900e+07   \n",
      "max           37.892650         84.730541      236990.128088   7.479865e+07   \n",
      "\n",
      "       absolute_magnitude  \n",
      "count        90836.000000  \n",
      "mean            23.527103  \n",
      "std              2.894086  \n",
      "min              9.230000  \n",
      "25%             21.340000  \n",
      "50%             23.700000  \n",
      "75%             25.700000  \n",
      "max             33.200000  \n"
     ]
    }
   ],
   "source": [
    "print(\"Summary of all numerical values :\")\n",
    "print(df.describe())"
   ]
  },
  {
   "cell_type": "code",
   "execution_count": 152,
   "id": "8a270fb7-1296-42ea-8fbb-64c5e67603e7",
   "metadata": {},
   "outputs": [
    {
     "data": {
      "image/png": "[encoded data removed]",
      "text/plain": [
       "<Figure size 720x504 with 6 Axes>"
      ]
     },
     "metadata": {
      "needs_background": "light"
     },
     "output_type": "display_data"
    }
   ],
   "source": [
    "df.hist(bins=10, figsize=(10, 7))\n",
    "pass"
   ]
  },
  {
   "cell_type": "code",
   "execution_count": 153,
   "id": "904dbe99-e738-4c8b-b7ae-1a064d038d3b",
   "metadata": {},
   "outputs": [
    {
     "name": "stdout",
     "output_type": "stream",
     "text": [
      "<class 'pandas.core.frame.DataFrame'>\n",
      "RangeIndex: 90836 entries, 0 to 90835\n",
      "Data columns (total 10 columns):\n",
      " #   Column              Non-Null Count  Dtype   \n",
      "---  ------              --------------  -----   \n",
      " 0   id                  90836 non-null  object  \n",
      " 1   name                90836 non-null  object  \n",
      " 2   est_diameter_min    90836 non-null  float64 \n",
      " 3   est_diameter_max    90836 non-null  float64 \n",
      " 4   relative_velocity   90836 non-null  float64 \n",
      " 5   miss_distance       90836 non-null  float64 \n",
      " 6   orbiting_body       90836 non-null  category\n",
      " 7   sentry_object       90836 non-null  bool    \n",
      " 8   absolute_magnitude  90836 non-null  float64 \n",
      " 9   hazardous           90836 non-null  bool    \n",
      "dtypes: bool(2), category(1), float64(5), object(2)\n",
      "memory usage: 5.1+ MB\n"
     ]
    }
   ],
   "source": [
    "df.info()"
   ]
  },
  {
   "cell_type": "code",
   "execution_count": 154,
   "id": "b74171f8-683b-4de3-8ea5-e0cc772fabfc",
   "metadata": {},
   "outputs": [
    {
     "name": "stdout",
     "output_type": "stream",
     "text": [
      "Visualization of categorical values :\n",
      "       orbiting_body sentry_object hazardous\n",
      "count          90836         90836     90836\n",
      "unique             1             1         2\n",
      "top            Earth         False     False\n",
      "freq           90836         90836     81996\n"
     ]
    }
   ],
   "source": [
    "print(\"Visualization of categorical values :\")\n",
    "print(df.describe(include=['category', 'bool']))"
   ]
  },
  {
   "cell_type": "markdown",
   "id": "d6eebdc4-a4e0-43d7-9404-610dfc82d2c8",
   "metadata": {},
   "source": [
    "As we can see we have"
   ]
  },
  {
   "cell_type": "code",
   "execution_count": 155,
   "id": "f24d35d1-a641-4c74-914f-9342c5816f0f",
   "metadata": {},
   "outputs": [],
   "source": [
    "def show3D_data(df, x, y, z, only_anomalies=False):\n",
    "    X = df.drop(columns=[\"label\"])\n",
    "    Y = df[\"label\"] != \"background\"\n",
    "\n",
    "    zOffset = 0.02\n",
    "    limit = len(X)\n",
    "\n",
    "    sb.reset_orig()\n",
    "\n",
    "    fig = plt.figure(figsize=(10, 12))\n",
    "    ax = fig.add_subplot(111, projection=\"3d\")\n",
    "\n",
    "    if not only_anomalies:\n",
    "        ax.scatter(\n",
    "            X.loc[Y == False, x][:limit],\n",
    "            X.loc[Y == False, y][:limit],\n",
    "            -np.log10(X.loc[Y == False, z][:limit] + zOffset),\n",
    "            c=\"g\",\n",
    "            marker=\".\",\n",
    "            s=10,\n",
    "            label=\"background\",\n",
    "        )\n",
    "\n",
    "    ax.scatter(\n",
    "        X.loc[Y == True, x][:limit],\n",
    "        X.loc[Y == True, y][:limit],\n",
    "        -np.log10(X.loc[Y == True, z][:limit] + zOffset),\n",
    "        c=\"r\",\n",
    "        marker=\".\",\n",
    "        s=10,\n",
    "        label=\"anomaly\",\n",
    "    )\n",
    "\n",
    "    ax.set_xlabel(x, size=16)\n",
    "    ax.set_ylabel(y + \" [hour]\", size=16)\n",
    "    ax.set_zlabel(\"- log$_{10}$ (\" + z + \")\", size=16)\n",
    "    if not only_anomalies:\n",
    "        ax.set_title(\n",
    "            \"Error-based features separate out normal and anomalies transfer\", size=20\n",
    "        )\n",
    "    else:\n",
    "        ax.set_title(\"Error-based features only for anomalies transfer\", size=20)\n",
    "\n",
    "    plt.axis(\"tight\")\n",
    "    ax.grid(1)\n",
    "\n",
    "    normalMarker = (\n",
    "        mlines.Line2D(\n",
    "            [],\n",
    "            [],\n",
    "            linewidth=0,\n",
    "            color=\"g\",\n",
    "            marker=\".\",\n",
    "            markersize=10,\n",
    "            label=\"background\",\n",
    "        )\n",
    "        if not only_anomalies\n",
    "        else None\n",
    "    )\n",
    "\n",
    "    anomalyMarker = mlines.Line2D(\n",
    "        [], [], linewidth=0, color=\"r\", marker=\".\", markersize=10, label=\"anomaly\"\n",
    "    )\n",
    "\n",
    "    plt.legend(\n",
    "        handles=[anomalyMarker] if only_anomalies else [normalMarker, anomalyMarker],\n",
    "        bbox_to_anchor=(1.20, 0.38),\n",
    "        frameon=False,\n",
    "        prop={\"size\": 16},\n",
    "    )"
   ]
  },
  {
   "cell_type": "markdown",
   "id": "75cd3090-a28b-4c79-8fa4-18f05072e211",
   "metadata": {},
   "source": [
    "## Supervised Learning"
   ]
  },
  {
   "cell_type": "markdown",
   "id": "687609f6-3279-4553-b6ff-e944e826342c",
   "metadata": {},
   "source": [
    "First, we clean the dataset to get quantitative data to determine wether or not the object is considerer a potential threat by the nasa, it is this column we will want to monitor. We remove constant values (sentry_object=False and orbiting_body=Earth)"
   ]
  },
  {
   "cell_type": "code",
   "execution_count": 156,
   "id": "847a07c7-b08c-4a4f-9ae5-17be2b80b0f9",
   "metadata": {},
   "outputs": [
    {
     "name": "stderr",
     "output_type": "stream",
     "text": [
      "/home/marius/epita/ING2/FTML_PTML/venv_ptml/lib/python3.9/site-packages/pandas/core/indexes/base.py:6982: FutureWarning: In a future version, the Index constructor will not infer numeric dtypes when passed object-dtype sequences (matching Series behavior)\n",
      "  return Index(sequences[0], name=names)\n"
     ]
    },
    {
     "data": {
      "text/html": [
       "<div>\n",
       "<style scoped>\n",
       "    .dataframe tbody tr th:only-of-type {\n",
       "        vertical-align: middle;\n",
       "    }\n",
       "\n",
       "    .dataframe tbody tr th {\n",
       "        vertical-align: top;\n",
       "    }\n",
       "\n",
       "    .dataframe thead th {\n",
       "        text-align: right;\n",
       "    }\n",
       "</style>\n",
       "<table border=\"1\" class=\"dataframe\">\n",
       "  <thead>\n",
       "    <tr style=\"text-align: right;\">\n",
       "      <th></th>\n",
       "      <th>est_diameter_min</th>\n",
       "      <th>est_diameter_max</th>\n",
       "      <th>relative_velocity</th>\n",
       "      <th>miss_distance</th>\n",
       "      <th>absolute_magnitude</th>\n",
       "      <th>hazardous</th>\n",
       "    </tr>\n",
       "    <tr>\n",
       "      <th>id</th>\n",
       "      <th></th>\n",
       "      <th></th>\n",
       "      <th></th>\n",
       "      <th></th>\n",
       "      <th></th>\n",
       "      <th></th>\n",
       "    </tr>\n",
       "  </thead>\n",
       "  <tbody>\n",
       "    <tr>\n",
       "      <th>2162635</th>\n",
       "      <td>1.198271</td>\n",
       "      <td>2.679415</td>\n",
       "      <td>13569.249224</td>\n",
       "      <td>5.483974e+07</td>\n",
       "      <td>16.73</td>\n",
       "      <td>False</td>\n",
       "    </tr>\n",
       "    <tr>\n",
       "      <th>2277475</th>\n",
       "      <td>0.265800</td>\n",
       "      <td>0.594347</td>\n",
       "      <td>73588.726663</td>\n",
       "      <td>6.143813e+07</td>\n",
       "      <td>20.00</td>\n",
       "      <td>True</td>\n",
       "    </tr>\n",
       "    <tr>\n",
       "      <th>2512244</th>\n",
       "      <td>0.722030</td>\n",
       "      <td>1.614507</td>\n",
       "      <td>114258.692129</td>\n",
       "      <td>4.979872e+07</td>\n",
       "      <td>17.83</td>\n",
       "      <td>False</td>\n",
       "    </tr>\n",
       "    <tr>\n",
       "      <th>3596030</th>\n",
       "      <td>0.096506</td>\n",
       "      <td>0.215794</td>\n",
       "      <td>24764.303138</td>\n",
       "      <td>2.543497e+07</td>\n",
       "      <td>22.20</td>\n",
       "      <td>False</td>\n",
       "    </tr>\n",
       "    <tr>\n",
       "      <th>3667127</th>\n",
       "      <td>0.255009</td>\n",
       "      <td>0.570217</td>\n",
       "      <td>42737.733765</td>\n",
       "      <td>4.627557e+07</td>\n",
       "      <td>20.09</td>\n",
       "      <td>True</td>\n",
       "    </tr>\n",
       "    <tr>\n",
       "      <th>...</th>\n",
       "      <td>...</td>\n",
       "      <td>...</td>\n",
       "      <td>...</td>\n",
       "      <td>...</td>\n",
       "      <td>...</td>\n",
       "      <td>...</td>\n",
       "    </tr>\n",
       "    <tr>\n",
       "      <th>3763337</th>\n",
       "      <td>0.026580</td>\n",
       "      <td>0.059435</td>\n",
       "      <td>52078.886692</td>\n",
       "      <td>1.230039e+07</td>\n",
       "      <td>25.00</td>\n",
       "      <td>False</td>\n",
       "    </tr>\n",
       "    <tr>\n",
       "      <th>3837603</th>\n",
       "      <td>0.016771</td>\n",
       "      <td>0.037501</td>\n",
       "      <td>46114.605073</td>\n",
       "      <td>5.432121e+07</td>\n",
       "      <td>26.00</td>\n",
       "      <td>False</td>\n",
       "    </tr>\n",
       "    <tr>\n",
       "      <th>54017201</th>\n",
       "      <td>0.031956</td>\n",
       "      <td>0.071456</td>\n",
       "      <td>7566.807732</td>\n",
       "      <td>2.840077e+07</td>\n",
       "      <td>24.60</td>\n",
       "      <td>False</td>\n",
       "    </tr>\n",
       "    <tr>\n",
       "      <th>54115824</th>\n",
       "      <td>0.007321</td>\n",
       "      <td>0.016370</td>\n",
       "      <td>69199.154484</td>\n",
       "      <td>6.869206e+07</td>\n",
       "      <td>27.80</td>\n",
       "      <td>False</td>\n",
       "    </tr>\n",
       "    <tr>\n",
       "      <th>54205447</th>\n",
       "      <td>0.039862</td>\n",
       "      <td>0.089133</td>\n",
       "      <td>27024.455553</td>\n",
       "      <td>5.977213e+07</td>\n",
       "      <td>24.12</td>\n",
       "      <td>False</td>\n",
       "    </tr>\n",
       "  </tbody>\n",
       "</table>\n",
       "<p>90836 rows × 6 columns</p>\n",
       "</div>"
      ],
      "text/plain": [
       "          est_diameter_min  est_diameter_max  relative_velocity  \\\n",
       "id                                                                \n",
       "2162635           1.198271          2.679415       13569.249224   \n",
       "2277475           0.265800          0.594347       73588.726663   \n",
       "2512244           0.722030          1.614507      114258.692129   \n",
       "3596030           0.096506          0.215794       24764.303138   \n",
       "3667127           0.255009          0.570217       42737.733765   \n",
       "...                    ...               ...                ...   \n",
       "3763337           0.026580          0.059435       52078.886692   \n",
       "3837603           0.016771          0.037501       46114.605073   \n",
       "54017201          0.031956          0.071456        7566.807732   \n",
       "54115824          0.007321          0.016370       69199.154484   \n",
       "54205447          0.039862          0.089133       27024.455553   \n",
       "\n",
       "          miss_distance  absolute_magnitude  hazardous  \n",
       "id                                                      \n",
       "2162635    5.483974e+07               16.73      False  \n",
       "2277475    6.143813e+07               20.00       True  \n",
       "2512244    4.979872e+07               17.83      False  \n",
       "3596030    2.543497e+07               22.20      False  \n",
       "3667127    4.627557e+07               20.09       True  \n",
       "...                 ...                 ...        ...  \n",
       "3763337    1.230039e+07               25.00      False  \n",
       "3837603    5.432121e+07               26.00      False  \n",
       "54017201   2.840077e+07               24.60      False  \n",
       "54115824   6.869206e+07               27.80      False  \n",
       "54205447   5.977213e+07               24.12      False  \n",
       "\n",
       "[90836 rows x 6 columns]"
      ]
     },
     "execution_count": 156,
     "metadata": {},
     "output_type": "execute_result"
    }
   ],
   "source": [
    "df_ml = df.drop([\"name\", \"orbiting_body\", \"sentry_object\"], axis=1)\n",
    "df_ml = df_ml.set_index(\"id\")\n",
    "df_ml"
   ]
  },
  {
   "cell_type": "markdown",
   "id": "7a157035",
   "metadata": {},
   "source": [
    "## Initialize train and test sets"
   ]
  },
  {
   "cell_type": "code",
   "execution_count": 157,
   "id": "9cdf3cc6",
   "metadata": {},
   "outputs": [],
   "source": [
    "from sklearn.model_selection import train_test_split\n",
    "\n",
    "X = df[[\"est_diameter_min\",\"est_diameter_max\",\"relative_velocity\",\"miss_distance\",\"absolute_magnitude\"]]\n",
    "y = df[\"hazardous\"]\n",
    "\n",
    "X_train, X_test, y_train, y_test = train_test_split(X, y, test_size=0.33, random_state=42)"
   ]
  },
  {
   "cell_type": "markdown",
   "id": "a551d867",
   "metadata": {},
   "source": [
    "## Let's try multiple models"
   ]
  },
  {
   "cell_type": "code",
   "execution_count": 158,
   "id": "895b3fed-e046-462d-b827-f76e4cf39942",
   "metadata": {},
   "outputs": [
    {
     "name": "stdout",
     "output_type": "stream",
     "text": [
      "======================== LogisticRegressionCV(class_weight='balanced') ========================\n",
      "------------ Classification Report ------------\n",
      "train :\n",
      "              precision    recall  f1-score   support\n",
      "\n",
      "       False       0.94      0.38      0.54     54969\n",
      "        True       0.12      0.76      0.20      5891\n",
      "\n",
      "    accuracy                           0.41     60860\n",
      "   macro avg       0.53      0.57      0.37     60860\n",
      "weighted avg       0.86      0.41      0.50     60860\n",
      "\n",
      "test :\n",
      "              precision    recall  f1-score   support\n",
      "\n",
      "       False       0.93      0.38      0.54     27027\n",
      "        True       0.12      0.76      0.20      2949\n",
      "\n",
      "    accuracy                           0.42     29976\n",
      "   macro avg       0.53      0.57      0.37     29976\n",
      "weighted avg       0.85      0.42      0.51     29976\n",
      "\n",
      "------------ Accuracy Score ------------\n",
      "train :\n",
      "0.41390075583305946\n",
      "test :\n",
      "0.4150987456631972\n",
      "\n",
      "------------ Confusion matrix on test ------------\n",
      "[[0.37758538 0.62241462]\n",
      " [0.24109868 0.75890132]]\n",
      "\n",
      "======================== KNeighborsClassifier() ========================\n",
      "------------ Classification Report ------------\n",
      "train :\n",
      "              precision    recall  f1-score   support\n",
      "\n",
      "       False       0.91      0.99      0.95     54969\n",
      "        True       0.66      0.11      0.18      5891\n",
      "\n",
      "    accuracy                           0.91     60860\n",
      "   macro avg       0.79      0.55      0.57     60860\n",
      "weighted avg       0.89      0.91      0.88     60860\n",
      "\n",
      "test :\n",
      "              precision    recall  f1-score   support\n",
      "\n",
      "       False       0.90      0.99      0.94     27027\n",
      "        True       0.21      0.03      0.06      2949\n",
      "\n",
      "    accuracy                           0.89     29976\n",
      "   macro avg       0.56      0.51      0.50     29976\n",
      "weighted avg       0.83      0.89      0.86     29976\n",
      "\n",
      "------------ Accuracy Score ------------\n",
      "train :\n",
      "0.9083470259612225\n",
      "test :\n",
      "0.8922471310381639\n",
      "\n",
      "------------ Confusion matrix on test ------------\n",
      "[[0.98590299 0.01409701]\n",
      " [0.9660902  0.0339098 ]]\n",
      "\n",
      "======================== DecisionTreeClassifier(random_state=0) ========================\n",
      "------------ Classification Report ------------\n",
      "train :\n",
      "              precision    recall  f1-score   support\n",
      "\n",
      "       False       1.00      1.00      1.00     54969\n",
      "        True       1.00      1.00      1.00      5891\n",
      "\n",
      "    accuracy                           1.00     60860\n",
      "   macro avg       1.00      1.00      1.00     60860\n",
      "weighted avg       1.00      1.00      1.00     60860\n",
      "\n",
      "test :\n",
      "              precision    recall  f1-score   support\n",
      "\n",
      "       False       0.94      0.94      0.94     27027\n",
      "        True       0.44      0.45      0.44      2949\n",
      "\n",
      "    accuracy                           0.89     29976\n",
      "   macro avg       0.69      0.69      0.69     29976\n",
      "weighted avg       0.89      0.89      0.89     29976\n",
      "\n",
      "------------ Accuracy Score ------------\n",
      "train :\n",
      "1.0\n",
      "test :\n",
      "0.8899786495863358\n",
      "\n",
      "------------ Confusion matrix on test ------------\n",
      "[[0.93817294 0.06182706]\n",
      " [0.55171244 0.44828756]]\n",
      "\n",
      "======================== RandomForestClassifier(max_depth=3, n_estimators=50, random_state=0) ========================\n",
      "------------ Classification Report ------------\n",
      "train :\n",
      "              precision    recall  f1-score   support\n",
      "\n",
      "       False       0.91      1.00      0.95     54969\n",
      "        True       0.87      0.13      0.22      5891\n",
      "\n",
      "    accuracy                           0.91     60860\n",
      "   macro avg       0.89      0.56      0.59     60860\n",
      "weighted avg       0.91      0.91      0.88     60860\n",
      "\n",
      "test :\n",
      "              precision    recall  f1-score   support\n",
      "\n",
      "       False       0.91      1.00      0.95     27027\n",
      "        True       0.85      0.11      0.20      2949\n",
      "\n",
      "    accuracy                           0.91     29976\n",
      "   macro avg       0.88      0.56      0.58     29976\n",
      "weighted avg       0.91      0.91      0.88     29976\n",
      "\n",
      "------------ Accuracy Score ------------\n",
      "train :\n",
      "0.9136214262241209\n",
      "test :\n",
      "0.9107619428876434\n",
      "\n",
      "------------ Confusion matrix on test ------------\n",
      "[[0.997817   0.002183  ]\n",
      " [0.88708037 0.11291963]]\n",
      "\n"
     ]
    }
   ],
   "source": [
    "from sklearn.ensemble import RandomForestClassifier\n",
    "from sklearn.linear_model import LogisticRegressionCV\n",
    "from sklearn.neighbors import KNeighborsClassifier\n",
    "from sklearn.tree import DecisionTreeClassifier\n",
    "\n",
    "from sklearn.metrics import classification_report, accuracy_score, confusion_matrix, r2_score\n",
    "\n",
    "def try_model(model):\n",
    "    print(f\"======================== {model} ========================\")\n",
    "    model.fit(X_train, y_train)\n",
    "\n",
    "    y_train_predict = model.predict(X_train)\n",
    "    y_test_predict = model.predict(X_test)\n",
    "\n",
    "    def print_metric(metric_name):\n",
    "        print(f\"------------ {metric_name} ------------\")\n",
    "        metric = metrics_dico[metric_name]\n",
    "        print(f\"train :\\n{metric(y_train,y_train_predict)}\")\n",
    "        print(f\"test :\\n{metric(y_test,y_test_predict)}\")\n",
    "    \n",
    "    metrics_dico = {\n",
    "        \"Classification Report\" :classification_report,\n",
    "        \"Accuracy Score\" : accuracy_score\n",
    "    }\n",
    "\n",
    "    for metric_name in metrics_dico:\n",
    "        print_metric(metric_name)\n",
    "\n",
    "    print(f\"\\n------------ Confusion matrix on test ------------\\n{confusion_matrix(y_test, y_test_predict, normalize='true')}\\n\")\n",
    "    \n",
    "models = [\n",
    "    LogisticRegressionCV(class_weight=\"balanced\"),\n",
    "    KNeighborsClassifier(),\n",
    "    DecisionTreeClassifier(random_state=0),\n",
    "    RandomForestClassifier(max_depth=3, random_state=0, n_estimators = 50),\n",
    "]\n",
    "\n",
    "for model in models:\n",
    "    try_model(model)"
   ]
  },
  {
   "cell_type": "markdown",
   "id": "5d7d539d",
   "metadata": {},
   "source": [
    "### Dimension Reduction to facilitate classification"
   ]
  },
  {
   "cell_type": "code",
   "execution_count": 159,
   "id": "1a5a0715-cf65-4b46-b392-457584b650e2",
   "metadata": {},
   "outputs": [],
   "source": [
    "from sklearn.decomposition import PCA"
   ]
  },
  {
   "cell_type": "code",
   "execution_count": 160,
   "id": "4477d48a",
   "metadata": {},
   "outputs": [
    {
     "data": {
      "text/plain": [
       "<matplotlib.collections.PathCollection at 0x7f21c13ff190>"
      ]
     },
     "execution_count": 160,
     "metadata": {},
     "output_type": "execute_result"
    },
    {
     "data": {
      "image/png": "[encoded data removed]",
      "text/plain": [
       "<Figure size 720x720 with 1 Axes>"
      ]
     },
     "metadata": {
      "needs_background": "light"
     },
     "output_type": "display_data"
    }
   ],
   "source": [
    "from sklearn.preprocessing import StandardScaler\n",
    "from sklearn.decomposition import PCA\n",
    "import matplotlib.pyplot as plt\n",
    "\n",
    "#Scale the X\n",
    "scaler = StandardScaler()\n",
    "scaler.fit(X)\n",
    "scaled = scaler.transform(X)\n",
    "\n",
    "#Obtain principal components\n",
    "pca = PCA().fit(scaled)\n",
    "\n",
    "pc = pca.transform(scaled)\n",
    "pc1 = pc[:,0]\n",
    "pc2 = pc[:,1]\n",
    "\n",
    "#Plot principal components\n",
    "plt.figure(figsize=(10,10))\n",
    "\n",
    "colour = ['#ff2121' if e else '#2176ff' for e in y]\n",
    "plt.scatter(pc1,pc2 ,c=colour,edgecolors='#000000')"
   ]
  },
  {
   "cell_type": "code",
   "execution_count": 171,
   "id": "b5178e11",
   "metadata": {},
   "outputs": [
    {
     "data": {
      "text/plain": [
       "Text(0, 0.5, 'Proportion of Variance Explained')"
      ]
     },
     "execution_count": 171,
     "metadata": {},
     "output_type": "execute_result"
    },
    {
     "data": {
      "image/png": "[encoded data removed]",
      "text/plain": [
       "<Figure size 1080x504 with 1 Axes>"
      ]
     },
     "metadata": {
      "needs_background": "light"
     },
     "output_type": "display_data"
    }
   ],
   "source": [
    "labels = ['PC1','PC2','PC3','PC4','PC5']\n",
    "\n",
    "plt.figure(figsize=(15,7))\n",
    "plt.bar(labels,pca.explained_variance_)\n",
    "plt.xlabel('Pricipal Component')\n",
    "plt.ylabel('Proportion of Variance Explained')"
   ]
  },
  {
   "cell_type": "code",
   "execution_count": 172,
   "id": "fb3a0905",
   "metadata": {},
   "outputs": [
    {
     "name": "stdout",
     "output_type": "stream",
     "text": [
      "[5.31251159e-01 2.35392401e-01 1.33986946e-01 9.93694937e-02\n",
      " 1.13446331e-21]\n"
     ]
    }
   ],
   "source": [
    "print(pca.explained_variance_ratio_)"
   ]
  },
  {
   "cell_type": "code",
   "execution_count": 173,
   "id": "9377b2b4",
   "metadata": {},
   "outputs": [
    {
     "name": "stdout",
     "output_type": "stream",
     "text": [
      "Score on training set : 1.0\n",
      "Score on test set : 0.8849412863624233\n",
      "\n",
      "Score on training set : 0.9060138021689123\n",
      "Score on test set : 0.9042233787029623\n",
      "\n"
     ]
    }
   ],
   "source": [
    "from sklearn.pipeline import Pipeline\n",
    "\n",
    "# fits PCA, transforms data and fits the decision tree classifier\n",
    "# on the transformed data\n",
    "pipe_tree = Pipeline([\n",
    "    \t\t\t\t# ('scale', StandardScaler()),\n",
    "    \t\t\t\t('pca', PCA(n_components=4)),\n",
    "                 \t('tree', DecisionTreeClassifier())])\n",
    "\n",
    "pipe_forest = Pipeline([\n",
    "    \t\t\t\t\t# ('scale', StandardScaler()), # scaling causes worse results\n",
    "    \t\t\t\t\t('pca', PCA(n_components=4)),\n",
    "                 \t\t('tree', RandomForestClassifier(max_depth=3, random_state=0, n_estimators = 50))])\n",
    "\n",
    "pipe_tree.fit(X_train, y_train)\n",
    "y_pred_tree = pipe_tree.predict(X_test)\n",
    "\n",
    "dec_tree_score_train = pipe_tree.score(X_train, y_train)\n",
    "dec_tree_score_test = pipe_tree.score(X_test, y_test)\n",
    "print(f\"Score on training set : {dec_tree_score_train}\")\n",
    "print(f\"Score on test set : {dec_tree_score_test}\\n\")\n",
    "\n",
    "\n",
    "pipe_forest.fit(X_train, y_train)\n",
    "y_pred_forest = pipe_forest.predict(X_test)\n",
    "\n",
    "rand_forest_score_train = pipe_forest.score(X_train, y_train)\n",
    "rand_forest_score_test = pipe_forest.score(X_test, y_test)\n",
    "print(f\"Score on training set : {rand_forest_score_train}\")\n",
    "print(f\"Score on test set : {rand_forest_score_test}\\n\")"
   ]
  },
  {
   "cell_type": "code",
   "execution_count": 174,
   "id": "db3fecfa",
   "metadata": {},
   "outputs": [
    {
     "name": "stdout",
     "output_type": "stream",
     "text": [
      "[[25281  1746]\n",
      " [ 1703  1246]]\n",
      "False negative : 1703\n",
      "False positive : 1746\n"
     ]
    },
    {
     "data": {
      "text/plain": [
       "<AxesSubplot:>"
      ]
     },
     "execution_count": 174,
     "metadata": {},
     "output_type": "execute_result"
    },
    {
     "data": {
      "image/png": "[encoded data removed]",
      "text/plain": [
       "<Figure size 432x288 with 2 Axes>"
      ]
     },
     "metadata": {
      "needs_background": "light"
     },
     "output_type": "display_data"
    }
   ],
   "source": [
    "\n",
    "conf_mat = confusion_matrix(y_test, y_pred_tree)\n",
    "print(conf_mat)\n",
    "false_neg = conf_mat[1][0]\n",
    "false_pos = conf_mat[0][1]\n",
    "print(f\"False negative : {false_neg}\")\n",
    "print(f\"False positive : {false_pos}\")\n",
    "\n",
    "#plt.figure(figsize=(12, 12))\n",
    "sns.heatmap(conf_mat, annot=True, cmap='Blues', fmt='g')"
   ]
  },
  {
   "cell_type": "code",
   "execution_count": 175,
   "id": "fddd3fd9",
   "metadata": {},
   "outputs": [
    {
     "name": "stdout",
     "output_type": "stream",
     "text": [
      "[[27018     9]\n",
      " [ 2862    87]]\n",
      "False negative : 2862\n",
      "False positive : 9\n"
     ]
    },
    {
     "data": {
      "text/plain": [
       "<AxesSubplot:>"
      ]
     },
     "execution_count": 175,
     "metadata": {},
     "output_type": "execute_result"
    },
    {
     "data": {
      "image/png": "[encoded data removed]",
      "text/plain": [
       "<Figure size 432x288 with 2 Axes>"
      ]
     },
     "metadata": {
      "needs_background": "light"
     },
     "output_type": "display_data"
    }
   ],
   "source": [
    "\n",
    "conf_mat = confusion_matrix(y_test, y_pred_forest)\n",
    "print(conf_mat)\n",
    "false_neg = conf_mat[1][0]\n",
    "false_pos = conf_mat[0][1]\n",
    "print(f\"False negative : {false_neg}\")\n",
    "print(f\"False positive : {false_pos}\")\n",
    "\n",
    "#plt.figure(figsize=(12, 12))\n",
    "sns.heatmap(conf_mat, annot=True, cmap='Blues', fmt='g')"
   ]
  }
 ],
 "metadata": {
  "kernelspec": {
   "display_name": "Python 3 (ipykernel)",
   "language": "python",
   "name": "python3"
  },
  "language_info": {
   "codemirror_mode": {
    "name": "ipython",
    "version": 3
   },
   "file_extension": ".py",
   "mimetype": "text/x-python",
   "name": "python",
   "nbconvert_exporter": "python",
   "pygments_lexer": "ipython3",
   "version": "3.9.7"
  },
  "vscode": {
   "interpreter": {
    "hash": "e7370f93d1d0cde622a1f8e1c04877d8463912d04d973331ad4851f04de6915a"
   }
  }
 },
 "nbformat": 4,
 "nbformat_minor": 5
}
